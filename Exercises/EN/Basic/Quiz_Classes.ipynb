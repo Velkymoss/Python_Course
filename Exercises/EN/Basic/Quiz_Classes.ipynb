{
 "cells": [
  {
   "cell_type": "markdown",
   "metadata": {},
   "source": [
    "# Introduction to Python   \n",
    "\n",
    "### Classes"
   ]
  },
  {
   "cell_type": "markdown",
   "metadata": {},
   "source": [
    "#### 1) Create a class \"Car\", with the following properties (methods and attributes):  \n",
    "\n",
    "- Model (attribute) -> The car model\n",
    "- Autonomy (method) -> Must return how many Km can still travel with the current fuel\n",
    "- Tank level (method and attribute) -> The number of Liters in the tank\n",
    "- Tank capacity (attribute) -> Full capacity of the tank (Liters)\n",
    "- Consumption (attribute) -> A value representing consumption in Km per Liter\n",
    "- Refills (method) -> Adds a number of Liters of fuel to the tank, up to, at most, its full capacity\n",
    "- Run (method) -> Makes the car travel a specific number of Km\n",
    "- Odometer -> (attribute) Returns the total number of Km traveled \n",
    "- Partial Odometer (attribute) -> Returns the number of Km traveled since the last tank filling "
   ]
  },
  {
   "cell_type": "code",
   "execution_count": 20,
   "metadata": {},
   "outputs": [],
   "source": [
    "class Car:\n",
    "    def __init__(self, model, tank_level, tank_capacity, consumption, odometer=0, partial_odometer=0):\n",
    "        self.model = model\n",
    "        self.tank_level = tank_level\n",
    "        self.tank_capacity = tank_capacity\n",
    "        self.consumption = consumption\n",
    "        self.odometer = odometer\n",
    "        self.partial_odometer = partial_odometer\n",
    "        \n",
    "    def current_tank_level(self):\n",
    "        return f'The current tank level is {self.tank_level} liters.'\n",
    "    \n",
    "    def autonomy(self):\n",
    "        km_left = self.tank_level * self.consumption\n",
    "        return f'You can travel {km_left} km with the current fuel load.'\n",
    "    \n",
    "    def refills(self, liters_of_fuel):\n",
    "        self.tank_level += liters_of_fuel\n",
    "        self.partial_odometer = 0\n",
    "        if self.tank_level >= self.tank_capacity:\n",
    "            return 'The tank is full.'\n",
    "        else:\n",
    "            return f'{liters_of_fuel} liters have been added to the tank.'\n",
    "    \n",
    "    def run(self, km):\n",
    "        if self.autonomy() >= km:\n",
    "            self.tank_level -= km / self.consumption\n",
    "            self.odometer += km\n",
    "            self.partial_odometer += km\n",
    "            return f'The car has travelled {km} km.'\n",
    "        else:\n",
    "            return f'There is not enough fuel left to travel {km} km.'"
   ]
  },
  {
   "cell_type": "markdown",
   "metadata": {
    "id": "R_vi6lpSNLPC"
   },
   "source": [
    "#### 2) Create a class \"Country\" that contains the following methods:\n",
    "\n",
    "- compare_gdp_per_capita\n",
    "- compare_population_density\n",
    "- development_status \n",
    "\n",
    "Additional information:\n",
    "\n",
    "- To classify the development status (high-income, upper middle income, lower middle income and low-income) use the following methodology: https://www.un.org/en/development/desa/policy/wesp/wesp_current/2014wesp_country_classification.pdf\n",
    "\n",
    "- Consider GNI as GDP\n",
    "\n",
    "- The input will be in the format (name_of_country, population, area_in_km2, gdp), where name_of_country is a string and the other three inputs are integers.\n",
    "\n",
    "\n",
    "**Example**\n",
    "\n",
    "brazil = Country(\"Brazil\", 209500000, 8516000, 1847000000)\n",
    "\n",
    "mexico = Country(\"Mexico\", 126200000, 1973000, 1221000000)\n",
    "\n",
    "brazil.development_status ➞ 'upper middle income'\n",
    "\n",
    "mexico.compare_population_density(brazil) ➞ \"Mexico has a larger population density than Brazil\"\n",
    "\n",
    "brazil.compare_gdp_per_capita(mexico) ➞ \"Brazil is poorer than Mexico\""
   ]
  },
  {
   "cell_type": "code",
   "execution_count": 47,
   "metadata": {},
   "outputs": [],
   "source": [
    "class Country:\n",
    "    def __init__(self, name, population, area, gdp):\n",
    "        self.name = name\n",
    "        self.population = population\n",
    "        self.area = area\n",
    "        self.gdp = gdp\n",
    "        self.gdp_per_capita = gdp / population\n",
    "        self.pop_dens = population / area\n",
    "        \n",
    "    def development_status(self):\n",
    "        if self.gdp_per_capita < 1035:\n",
    "            return \"low-income\"\n",
    "        elif self.gdp_per_capita >= 1035 and self.gdp_per_capita < 4085:\n",
    "            return \"lower middle income \"\n",
    "        elif self.gdp_per_capita >= 4085 and self.gdp_per_capita < 12615:\n",
    "            return \"upper middle income\"\n",
    "        else:\n",
    "            return \"high-income\"\n",
    "        \n",
    "    def compare_gdp_per_capita (self, country):\n",
    "        if self.gdp_per_capita > country.gdp_per_capita:\n",
    "            return f'{self.name} is richer than {country.name}.'\n",
    "        elif self.gdp_per_capita < country.gdp_per_capita:\n",
    "            return f'{self.name} is poorer than {country.name}.'\n",
    "        \n",
    "    def compare_population_density(self, country):\n",
    "        if self.pop_dens > country.pop_dens:\n",
    "            return f'{self.name} has a larger population density than {country.name}.'\n",
    "        elif self.pop_dens < country.pop_dens:\n",
    "            return f'{self.name} has a smaller population density than {country.name}.'"
   ]
  },
  {
   "cell_type": "markdown",
   "metadata": {},
   "source": [
    "3) Create a class \"Drone\", with the necessary properties (methods and attributes):\n",
    "\n",
    "You should create at least:\n",
    "\n",
    " + show_level(show the battery energy level)\n",
    " + charge_battey\n",
    " + show_coordinates\n",
    " + fly_to(x,y)"
   ]
  },
  {
   "cell_type": "code",
   "execution_count": 16,
   "metadata": {},
   "outputs": [],
   "source": [
    "class Drone:\n",
    "    def __init__(self, max_energy, energy_per_km = 15, current_energy = 0, current_position = [0,0], max_height = 7):\n",
    "        self.current_energy = current_energy\n",
    "        self.max_energy = max_energy\n",
    "        self.energy_per_km = energy_per_km\n",
    "        self.current_position = current_position\n",
    "        self.max_heigt = max_height\n",
    "        \n",
    "    def show_level(self):\n",
    "        return f'Current battery energy level: {self.current_energy} percent'\n",
    "    \n",
    "    def charge_battery(self):\n",
    "        self.current_energy = self.max_energy\n",
    "        return 'Battery fully charged'\n",
    "    \n",
    "    def show_coordinates(self):\n",
    "        return f'Currrent position: {self.current_position}'\n",
    "    \n",
    "    def fly_to(self, x, y):\n",
    "        if y > self.max_height:\n",
    "            return 'This position violates the maximum height of the drone.'\n",
    "        elif self.current_energy - self.energy_per_km * x <= 0:\n",
    "            return 'Not enough energy left for the travel distance.'\n",
    "        else:\n",
    "            self.current_position = [x, y]\n",
    "            self.current_energy = self.current_energy - self.energy_per_km * x\n",
    "            return self.current_position    "
   ]
  }
 ],
 "metadata": {
  "kernelspec": {
   "display_name": "Python 3 (ipykernel)",
   "language": "python",
   "name": "python3"
  },
  "language_info": {
   "codemirror_mode": {
    "name": "ipython",
    "version": 3
   },
   "file_extension": ".py",
   "mimetype": "text/x-python",
   "name": "python",
   "nbconvert_exporter": "python",
   "pygments_lexer": "ipython3",
   "version": "3.11.0"
  }
 },
 "nbformat": 4,
 "nbformat_minor": 4
}
